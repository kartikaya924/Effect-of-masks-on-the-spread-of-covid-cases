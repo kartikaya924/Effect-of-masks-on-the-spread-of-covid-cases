{
 "cells": [
  {
   "cell_type": "markdown",
   "metadata": {},
   "source": [
    "## Importing Libraries "
   ]
  },
  {
   "cell_type": "code",
   "execution_count": 5,
   "metadata": {},
   "outputs": [],
   "source": [
    "import pandas as pd\n",
    "import numpy as np\n",
    "import matplotlib.pyplot as plt\n",
    "# from sklearn.cluster import KMeans\n",
    "%matplotlib inline\n",
    "import matplotlib.ticker as ticker\n",
    "import matplotlib.dates as mdates\n",
    "import copy\n",
    "\n",
    "from tslib.src import tsUtils\n",
    "# from tslib.src.synthcontrol import RobustSynthaticControl\n",
    "from tslib.tests import testdata"
   ]
  },
  {
   "cell_type": "code",
   "execution_count": 7,
   "metadata": {},
   "outputs": [],
   "source": [
    "################################################################\n",
    "#\n",
    "# Robust Synthetic Control \n",
    "#\n",
    "# Implementation based on: \n",
    "# http://www.jmlr.org/papers/volume19/17-777/17-777.pdf\n",
    "#\n",
    "################################################################\n",
    "import numpy as np\n",
    "import pandas as pd\n",
    "\n",
    "from tslib.src.models.tsSVDModel import SVDModel\n",
    "from tslib.src.models.tsALSModel import ALSModel\n",
    "from tslib.src import tsUtils\n",
    "\n",
    "class RobustSyntheticControl(object):\n",
    "    \n",
    "    # seriesToPredictKey:       (string) the series of interest (key)\n",
    "    # kSingularValuesToKeep:    (int) the number of singular values to retain\n",
    "    # M:                        (int) the number of columns for the matrix\n",
    "    # probObservation:          (float) the independent probability of observation of each entry in the matrix\n",
    "    # modelType:                (string) SVD or ALS. Default is \"SVD\"\n",
    "    # svdMethod:                (string) the SVD method to use (optional)\n",
    "    # otherSeriesKeysArray:     (array) an array of keys for other series which will be used to predict \n",
    "\n",
    "    def __init__(self, seriesToPredictKey, kSingularValuesToKeep, M, probObservation=1.0, modelType='svd', svdMethod='numpy', otherSeriesKeysArray=[]):\n",
    "\n",
    "        self.seriesToPredictKey = seriesToPredictKey\n",
    "        self.otherSeriesKeysArray = otherSeriesKeysArray\n",
    "\n",
    "        self.N = 1 # each series is on its own row\n",
    "        self.M = M\n",
    "\n",
    "        self.kSingularValues = kSingularValuesToKeep\n",
    "        self.svdMethod = svdMethod\n",
    "\n",
    "        self.p = probObservation\n",
    "\n",
    "        if (modelType == 'als'):\n",
    "            self.model = ALSModel(self.seriesToPredictKey, self.kSingularValues, self.N, self.M, probObservation=self.p, otherSeriesKeysArray=self.otherSeriesKeysArray, includePastDataOnly=False)\n",
    "\n",
    "        elif (modelType == 'svd'):\n",
    "            self.model = SVDModel(self.seriesToPredictKey, self.kSingularValues, self.N, self.M, probObservation=self.p, svdMethod='numpy', otherSeriesKeysArray=self.otherSeriesKeysArray, includePastDataOnly=False)\n",
    "\n",
    "        else:\n",
    "            self.model = SVDModel(self.seriesToPredictKey, self.kSingularValues, self.N, self.M, probObservation=self.p, svdMethod='numpy', otherSeriesKeysArray=self.otherSeriesKeysArray, includePastDataOnly=False)\n",
    "\n",
    "        self.control = None # these are the synthetic control weights\n",
    "\n",
    "\n",
    "    # keyToSeriesDictionary: (Pandas dataframe) a key-value Series\n",
    "    # Note that the keys provided in the constructor MUST all be present\n",
    "    # The values must be all numpy arrays of floats.\n",
    "    def fit(self, keyToSeriesDF):\n",
    "        self.model.fit(keyToSeriesDF)\n",
    "\n",
    "\n",
    "    # otherKeysToSeriesDFNew:     (Pandas dataframe) needs to contain all keys provided in the model;\n",
    "    #                               all series/array MUST be of length >= 1, \n",
    "    #                               If longer than 1, then the most recent point will be used (for each series)\n",
    "    def predict(self, otherKeysToSeriesDFNew):\n",
    "        prediction = np.dot(self.model.weights, otherKeysToSeriesDFNew[self.otherSeriesKeysArray].T)\n",
    "        return prediction\n",
    "\n",
    "    # return the synthetic control weights\n",
    "    def getControl():\n",
    "        if (self.model.weights is None):\n",
    "            raise Exception('Before calling getControl() you need to call the fit() method first.')\n",
    "        else:\n",
    "            return self.model.weights"
   ]
  },
  {
   "cell_type": "markdown",
   "metadata": {},
   "source": [
    "## Input Variables "
   ]
  },
  {
   "cell_type": "code",
   "execution_count": 9,
   "metadata": {},
   "outputs": [
    {
     "name": "stdout",
     "output_type": "stream",
     "text": [
      "Enter the state Kansas\n"
     ]
    }
   ],
   "source": [
    "target=input('Enter the state ')"
   ]
  },
  {
   "cell_type": "code",
   "execution_count": 10,
   "metadata": {},
   "outputs": [
    {
     "name": "stdout",
     "output_type": "stream",
     "text": [
      "Enter the county in that state Wyandotte\n"
     ]
    }
   ],
   "source": [
    "county=input('Enter the county in that state ')"
   ]
  },
  {
   "cell_type": "code",
   "execution_count": 11,
   "metadata": {},
   "outputs": [
    {
     "name": "stdout",
     "output_type": "stream",
     "text": [
      "Enter the intervention date in %y-%m-%d format 2020-07-03\n"
     ]
    }
   ],
   "source": [
    "date=input('Enter the intervention date in %y-%m-%d format ')"
   ]
  },
  {
   "cell_type": "code",
   "execution_count": 36,
   "metadata": {},
   "outputs": [
    {
     "name": "stdout",
     "output_type": "stream",
     "text": [
      "Enter the time period in which you want to check\n",
      "Starting date in %y-%m-%d format 2020-03-10\n",
      "Ending date in %y-%m-%d format 2020-07-20\n"
     ]
    }
   ],
   "source": [
    "print('Enter the time period in which you want to check')\n",
    "start=input('Starting date in %y-%m-%d format ')\n",
    "end=input('Ending date in %y-%m-%d format ')"
   ]
  },
  {
   "cell_type": "markdown",
   "metadata": {},
   "source": [
    "## Import Data"
   ]
  },
  {
   "cell_type": "code",
   "execution_count": 22,
   "metadata": {},
   "outputs": [],
   "source": [
    "url='https://raw.githubusercontent.com/nytimes/covid-19-data/master/us-counties.csv'\n",
    "state = pd.read_csv(url,index_col=0)"
   ]
  },
  {
   "cell_type": "code",
   "execution_count": 25,
   "metadata": {},
   "outputs": [],
   "source": [
    "state=state[state['state']==target]"
   ]
  },
  {
   "cell_type": "code",
   "execution_count": 26,
   "metadata": {},
   "outputs": [],
   "source": [
    "state=state.pivot_table(index='county', columns='date', values='cases').fillna(0) "
   ]
  },
  {
   "cell_type": "code",
   "execution_count": 27,
   "metadata": {},
   "outputs": [
    {
     "data": {
      "text/html": [
       "<div>\n",
       "<style scoped>\n",
       "    .dataframe tbody tr th:only-of-type {\n",
       "        vertical-align: middle;\n",
       "    }\n",
       "\n",
       "    .dataframe tbody tr th {\n",
       "        vertical-align: top;\n",
       "    }\n",
       "\n",
       "    .dataframe thead th {\n",
       "        text-align: right;\n",
       "    }\n",
       "</style>\n",
       "<table border=\"1\" class=\"dataframe\">\n",
       "  <thead>\n",
       "    <tr style=\"text-align: right;\">\n",
       "      <th>date</th>\n",
       "      <th>2020-03-07</th>\n",
       "      <th>2020-03-08</th>\n",
       "      <th>2020-03-09</th>\n",
       "      <th>2020-03-10</th>\n",
       "      <th>2020-03-11</th>\n",
       "      <th>2020-03-12</th>\n",
       "      <th>2020-03-13</th>\n",
       "      <th>2020-03-14</th>\n",
       "      <th>2020-03-15</th>\n",
       "      <th>2020-03-16</th>\n",
       "      <th>...</th>\n",
       "      <th>2020-08-18</th>\n",
       "      <th>2020-08-19</th>\n",
       "      <th>2020-08-20</th>\n",
       "      <th>2020-08-21</th>\n",
       "      <th>2020-08-22</th>\n",
       "      <th>2020-08-23</th>\n",
       "      <th>2020-08-24</th>\n",
       "      <th>2020-08-25</th>\n",
       "      <th>2020-08-26</th>\n",
       "      <th>2020-08-27</th>\n",
       "    </tr>\n",
       "    <tr>\n",
       "      <th>county</th>\n",
       "      <th></th>\n",
       "      <th></th>\n",
       "      <th></th>\n",
       "      <th></th>\n",
       "      <th></th>\n",
       "      <th></th>\n",
       "      <th></th>\n",
       "      <th></th>\n",
       "      <th></th>\n",
       "      <th></th>\n",
       "      <th></th>\n",
       "      <th></th>\n",
       "      <th></th>\n",
       "      <th></th>\n",
       "      <th></th>\n",
       "      <th></th>\n",
       "      <th></th>\n",
       "      <th></th>\n",
       "      <th></th>\n",
       "      <th></th>\n",
       "      <th></th>\n",
       "    </tr>\n",
       "  </thead>\n",
       "  <tbody>\n",
       "    <tr>\n",
       "      <th>Allen</th>\n",
       "      <td>0.0</td>\n",
       "      <td>0.0</td>\n",
       "      <td>0.0</td>\n",
       "      <td>0.0</td>\n",
       "      <td>0.0</td>\n",
       "      <td>0.0</td>\n",
       "      <td>0.0</td>\n",
       "      <td>0.0</td>\n",
       "      <td>0.0</td>\n",
       "      <td>0.0</td>\n",
       "      <td>...</td>\n",
       "      <td>23.0</td>\n",
       "      <td>23.0</td>\n",
       "      <td>23.0</td>\n",
       "      <td>23.0</td>\n",
       "      <td>23.0</td>\n",
       "      <td>23.0</td>\n",
       "      <td>23.0</td>\n",
       "      <td>23.0</td>\n",
       "      <td>23.0</td>\n",
       "      <td>23.0</td>\n",
       "    </tr>\n",
       "    <tr>\n",
       "      <th>Anderson</th>\n",
       "      <td>0.0</td>\n",
       "      <td>0.0</td>\n",
       "      <td>0.0</td>\n",
       "      <td>0.0</td>\n",
       "      <td>0.0</td>\n",
       "      <td>0.0</td>\n",
       "      <td>0.0</td>\n",
       "      <td>0.0</td>\n",
       "      <td>0.0</td>\n",
       "      <td>0.0</td>\n",
       "      <td>...</td>\n",
       "      <td>32.0</td>\n",
       "      <td>32.0</td>\n",
       "      <td>32.0</td>\n",
       "      <td>32.0</td>\n",
       "      <td>32.0</td>\n",
       "      <td>32.0</td>\n",
       "      <td>32.0</td>\n",
       "      <td>32.0</td>\n",
       "      <td>32.0</td>\n",
       "      <td>32.0</td>\n",
       "    </tr>\n",
       "    <tr>\n",
       "      <th>Atchison</th>\n",
       "      <td>0.0</td>\n",
       "      <td>0.0</td>\n",
       "      <td>0.0</td>\n",
       "      <td>0.0</td>\n",
       "      <td>0.0</td>\n",
       "      <td>0.0</td>\n",
       "      <td>0.0</td>\n",
       "      <td>0.0</td>\n",
       "      <td>0.0</td>\n",
       "      <td>0.0</td>\n",
       "      <td>...</td>\n",
       "      <td>99.0</td>\n",
       "      <td>99.0</td>\n",
       "      <td>99.0</td>\n",
       "      <td>157.0</td>\n",
       "      <td>157.0</td>\n",
       "      <td>157.0</td>\n",
       "      <td>157.0</td>\n",
       "      <td>157.0</td>\n",
       "      <td>157.0</td>\n",
       "      <td>157.0</td>\n",
       "    </tr>\n",
       "    <tr>\n",
       "      <th>Barber</th>\n",
       "      <td>0.0</td>\n",
       "      <td>0.0</td>\n",
       "      <td>0.0</td>\n",
       "      <td>0.0</td>\n",
       "      <td>0.0</td>\n",
       "      <td>0.0</td>\n",
       "      <td>0.0</td>\n",
       "      <td>0.0</td>\n",
       "      <td>0.0</td>\n",
       "      <td>0.0</td>\n",
       "      <td>...</td>\n",
       "      <td>6.0</td>\n",
       "      <td>6.0</td>\n",
       "      <td>6.0</td>\n",
       "      <td>5.0</td>\n",
       "      <td>5.0</td>\n",
       "      <td>5.0</td>\n",
       "      <td>5.0</td>\n",
       "      <td>5.0</td>\n",
       "      <td>5.0</td>\n",
       "      <td>5.0</td>\n",
       "    </tr>\n",
       "    <tr>\n",
       "      <th>Barton</th>\n",
       "      <td>0.0</td>\n",
       "      <td>0.0</td>\n",
       "      <td>0.0</td>\n",
       "      <td>0.0</td>\n",
       "      <td>0.0</td>\n",
       "      <td>0.0</td>\n",
       "      <td>0.0</td>\n",
       "      <td>0.0</td>\n",
       "      <td>0.0</td>\n",
       "      <td>0.0</td>\n",
       "      <td>...</td>\n",
       "      <td>189.0</td>\n",
       "      <td>189.0</td>\n",
       "      <td>198.0</td>\n",
       "      <td>210.0</td>\n",
       "      <td>210.0</td>\n",
       "      <td>210.0</td>\n",
       "      <td>223.0</td>\n",
       "      <td>223.0</td>\n",
       "      <td>251.0</td>\n",
       "      <td>251.0</td>\n",
       "    </tr>\n",
       "  </tbody>\n",
       "</table>\n",
       "<p>5 rows × 174 columns</p>\n",
       "</div>"
      ],
      "text/plain": [
       "date      2020-03-07  2020-03-08  2020-03-09  2020-03-10  2020-03-11  \\\n",
       "county                                                                 \n",
       "Allen            0.0         0.0         0.0         0.0         0.0   \n",
       "Anderson         0.0         0.0         0.0         0.0         0.0   \n",
       "Atchison         0.0         0.0         0.0         0.0         0.0   \n",
       "Barber           0.0         0.0         0.0         0.0         0.0   \n",
       "Barton           0.0         0.0         0.0         0.0         0.0   \n",
       "\n",
       "date      2020-03-12  2020-03-13  2020-03-14  2020-03-15  2020-03-16  ...  \\\n",
       "county                                                                ...   \n",
       "Allen            0.0         0.0         0.0         0.0         0.0  ...   \n",
       "Anderson         0.0         0.0         0.0         0.0         0.0  ...   \n",
       "Atchison         0.0         0.0         0.0         0.0         0.0  ...   \n",
       "Barber           0.0         0.0         0.0         0.0         0.0  ...   \n",
       "Barton           0.0         0.0         0.0         0.0         0.0  ...   \n",
       "\n",
       "date      2020-08-18  2020-08-19  2020-08-20  2020-08-21  2020-08-22  \\\n",
       "county                                                                 \n",
       "Allen           23.0        23.0        23.0        23.0        23.0   \n",
       "Anderson        32.0        32.0        32.0        32.0        32.0   \n",
       "Atchison        99.0        99.0        99.0       157.0       157.0   \n",
       "Barber           6.0         6.0         6.0         5.0         5.0   \n",
       "Barton         189.0       189.0       198.0       210.0       210.0   \n",
       "\n",
       "date      2020-08-23  2020-08-24  2020-08-25  2020-08-26  2020-08-27  \n",
       "county                                                                \n",
       "Allen           23.0        23.0        23.0        23.0        23.0  \n",
       "Anderson        32.0        32.0        32.0        32.0        32.0  \n",
       "Atchison       157.0       157.0       157.0       157.0       157.0  \n",
       "Barber           5.0         5.0         5.0         5.0         5.0  \n",
       "Barton         210.0       223.0       223.0       251.0       251.0  \n",
       "\n",
       "[5 rows x 174 columns]"
      ]
     },
     "execution_count": 27,
     "metadata": {},
     "output_type": "execute_result"
    }
   ],
   "source": [
    "state.head()"
   ]
  },
  {
   "cell_type": "markdown",
   "metadata": {},
   "source": [
    "## Finding Similar Counties "
   ]
  },
  {
   "cell_type": "code",
   "execution_count": 28,
   "metadata": {},
   "outputs": [],
   "source": [
    "intervention=state.columns.get_loc(date)\n",
    "\n",
    "lags=[1,7,14] #You can change lags if you want \n",
    "def cum_cases(lags):\n",
    "    for i in lags:\n",
    "        state[i]=pd.DataFrame(state.iloc[:, :intervention-i].sum(axis=1)) #cummulative number of cases\n",
    "    return state"
   ]
  },
  {
   "cell_type": "code",
   "execution_count": 29,
   "metadata": {},
   "outputs": [],
   "source": [
    "cum_cases(lags)\n",
    "similar=state.iloc[:,len(state.columns)-3:] "
   ]
  },
  {
   "cell_type": "code",
   "execution_count": 30,
   "metadata": {},
   "outputs": [
    {
     "data": {
      "text/html": [
       "<div>\n",
       "<style scoped>\n",
       "    .dataframe tbody tr th:only-of-type {\n",
       "        vertical-align: middle;\n",
       "    }\n",
       "\n",
       "    .dataframe tbody tr th {\n",
       "        vertical-align: top;\n",
       "    }\n",
       "\n",
       "    .dataframe thead th {\n",
       "        text-align: right;\n",
       "    }\n",
       "</style>\n",
       "<table border=\"1\" class=\"dataframe\">\n",
       "  <thead>\n",
       "    <tr style=\"text-align: right;\">\n",
       "      <th>date</th>\n",
       "      <th>1</th>\n",
       "      <th>7</th>\n",
       "      <th>14</th>\n",
       "    </tr>\n",
       "    <tr>\n",
       "      <th>county</th>\n",
       "      <th></th>\n",
       "      <th></th>\n",
       "      <th></th>\n",
       "    </tr>\n",
       "  </thead>\n",
       "  <tbody>\n",
       "    <tr>\n",
       "      <th>Allen</th>\n",
       "      <td>39.0</td>\n",
       "      <td>11.0</td>\n",
       "      <td>4.0</td>\n",
       "    </tr>\n",
       "    <tr>\n",
       "      <th>Anderson</th>\n",
       "      <td>89.0</td>\n",
       "      <td>68.0</td>\n",
       "      <td>47.0</td>\n",
       "    </tr>\n",
       "    <tr>\n",
       "      <th>Atchison</th>\n",
       "      <td>1402.0</td>\n",
       "      <td>1223.0</td>\n",
       "      <td>1037.0</td>\n",
       "    </tr>\n",
       "    <tr>\n",
       "      <th>Barber</th>\n",
       "      <td>86.0</td>\n",
       "      <td>80.0</td>\n",
       "      <td>73.0</td>\n",
       "    </tr>\n",
       "    <tr>\n",
       "      <th>Barton</th>\n",
       "      <td>2594.0</td>\n",
       "      <td>2260.0</td>\n",
       "      <td>1885.0</td>\n",
       "    </tr>\n",
       "    <tr>\n",
       "      <th>...</th>\n",
       "      <td>...</td>\n",
       "      <td>...</td>\n",
       "      <td>...</td>\n",
       "    </tr>\n",
       "    <tr>\n",
       "      <th>Washington</th>\n",
       "      <td>22.0</td>\n",
       "      <td>16.0</td>\n",
       "      <td>9.0</td>\n",
       "    </tr>\n",
       "    <tr>\n",
       "      <th>Wichita</th>\n",
       "      <td>0.0</td>\n",
       "      <td>0.0</td>\n",
       "      <td>0.0</td>\n",
       "    </tr>\n",
       "    <tr>\n",
       "      <th>Wilson</th>\n",
       "      <td>77.0</td>\n",
       "      <td>70.0</td>\n",
       "      <td>63.0</td>\n",
       "    </tr>\n",
       "    <tr>\n",
       "      <th>Woodson</th>\n",
       "      <td>519.0</td>\n",
       "      <td>477.0</td>\n",
       "      <td>435.0</td>\n",
       "    </tr>\n",
       "    <tr>\n",
       "      <th>Wyandotte</th>\n",
       "      <td>104198.0</td>\n",
       "      <td>90525.0</td>\n",
       "      <td>76726.0</td>\n",
       "    </tr>\n",
       "  </tbody>\n",
       "</table>\n",
       "<p>106 rows × 3 columns</p>\n",
       "</div>"
      ],
      "text/plain": [
       "date              1        7        14\n",
       "county                                \n",
       "Allen           39.0     11.0      4.0\n",
       "Anderson        89.0     68.0     47.0\n",
       "Atchison      1402.0   1223.0   1037.0\n",
       "Barber          86.0     80.0     73.0\n",
       "Barton        2594.0   2260.0   1885.0\n",
       "...              ...      ...      ...\n",
       "Washington      22.0     16.0      9.0\n",
       "Wichita          0.0      0.0      0.0\n",
       "Wilson          77.0     70.0     63.0\n",
       "Woodson        519.0    477.0    435.0\n",
       "Wyandotte   104198.0  90525.0  76726.0\n",
       "\n",
       "[106 rows x 3 columns]"
      ]
     },
     "execution_count": 30,
     "metadata": {},
     "output_type": "execute_result"
    }
   ],
   "source": [
    "similar"
   ]
  },
  {
   "cell_type": "markdown",
   "metadata": {},
   "source": [
    "### Euclidien Distance to get similar counties based on trend in covid cases"
   ]
  },
  {
   "cell_type": "code",
   "execution_count": 31,
   "metadata": {},
   "outputs": [],
   "source": [
    "def find_closest_counties(df, county):\n",
    "    new_df = pd.DataFrame(columns = [county])\n",
    "    for value in (df.index):\n",
    "        new_df.loc[value] = (((df.loc[county] - df.loc[value])**2).sum())**0.5\n",
    "    return new_df"
   ]
  },
  {
   "cell_type": "code",
   "execution_count": 32,
   "metadata": {},
   "outputs": [],
   "source": [
    "cnts_in_snthtc_ctrl_mdl = 10 #Looking for the 10 closest counties (easy to change to any number)\n",
    "county_of_interest = county #This is a county that opted\n",
    "counties_to_create_counterfactual = list(find_closest_counties(similar, county_of_interest).\n",
    "                                         dropna().\n",
    "                                         sort_values(by = county_of_interest).\n",
    "                                         head(cnts_in_snthtc_ctrl_mdl).\n",
    "                                         index)"
   ]
  },
  {
   "cell_type": "code",
   "execution_count": 33,
   "metadata": {},
   "outputs": [
    {
     "data": {
      "text/plain": [
       "['Wyandotte',\n",
       " 'Ford',\n",
       " 'Finney',\n",
       " 'Leavenworth',\n",
       " 'Johnson',\n",
       " 'Seward',\n",
       " 'Sedgwick',\n",
       " 'Lyon',\n",
       " 'Shawnee',\n",
       " 'Douglas']"
      ]
     },
     "execution_count": 33,
     "metadata": {},
     "output_type": "execute_result"
    }
   ],
   "source": [
    "counties_to_create_counterfactual ###Similar Counties to our target value "
   ]
  },
  {
   "cell_type": "markdown",
   "metadata": {},
   "source": [
    "## Finalizing Donor Pool"
   ]
  },
  {
   "cell_type": "code",
   "execution_count": 34,
   "metadata": {},
   "outputs": [],
   "source": [
    "### The final pool will be the target value + counties that did not enact mask mandates"
   ]
  },
  {
   "cell_type": "code",
   "execution_count": 35,
   "metadata": {},
   "outputs": [],
   "source": [
    "dPool=['Wyandotte',\n",
    " 'Ford',\n",
    " 'Finney',\n",
    " 'Leavenworth',\n",
    " 'Seward',\n",
    " 'Sedgwick',\n",
    " 'Lyon']"
   ]
  },
  {
   "cell_type": "markdown",
   "metadata": {},
   "source": [
    "## Performing Synthetic Control"
   ]
  },
  {
   "cell_type": "code",
   "execution_count": 37,
   "metadata": {},
   "outputs": [
    {
     "data": {
      "text/html": [
       "<div>\n",
       "<style scoped>\n",
       "    .dataframe tbody tr th:only-of-type {\n",
       "        vertical-align: middle;\n",
       "    }\n",
       "\n",
       "    .dataframe tbody tr th {\n",
       "        vertical-align: top;\n",
       "    }\n",
       "\n",
       "    .dataframe thead th {\n",
       "        text-align: right;\n",
       "    }\n",
       "</style>\n",
       "<table border=\"1\" class=\"dataframe\">\n",
       "  <thead>\n",
       "    <tr style=\"text-align: right;\">\n",
       "      <th>date</th>\n",
       "      <th>county</th>\n",
       "      <th>2020-03-10</th>\n",
       "      <th>2020-03-11</th>\n",
       "      <th>2020-03-12</th>\n",
       "      <th>2020-03-13</th>\n",
       "      <th>2020-03-14</th>\n",
       "      <th>2020-03-15</th>\n",
       "      <th>2020-03-16</th>\n",
       "      <th>2020-03-17</th>\n",
       "      <th>2020-03-18</th>\n",
       "      <th>...</th>\n",
       "      <th>2020-07-10</th>\n",
       "      <th>2020-07-11</th>\n",
       "      <th>2020-07-12</th>\n",
       "      <th>2020-07-13</th>\n",
       "      <th>2020-07-14</th>\n",
       "      <th>2020-07-15</th>\n",
       "      <th>2020-07-16</th>\n",
       "      <th>2020-07-17</th>\n",
       "      <th>2020-07-18</th>\n",
       "      <th>2020-07-19</th>\n",
       "    </tr>\n",
       "  </thead>\n",
       "  <tbody>\n",
       "    <tr>\n",
       "      <th>27</th>\n",
       "      <td>Finney</td>\n",
       "      <td>0.0</td>\n",
       "      <td>0.0</td>\n",
       "      <td>0.0</td>\n",
       "      <td>0.0</td>\n",
       "      <td>0.0</td>\n",
       "      <td>0.0</td>\n",
       "      <td>0.0</td>\n",
       "      <td>0.0</td>\n",
       "      <td>0.0</td>\n",
       "      <td>...</td>\n",
       "      <td>1604.0</td>\n",
       "      <td>1604.0</td>\n",
       "      <td>1604.0</td>\n",
       "      <td>1605.0</td>\n",
       "      <td>1608.0</td>\n",
       "      <td>1613.0</td>\n",
       "      <td>1620.0</td>\n",
       "      <td>1624.0</td>\n",
       "      <td>1624.0</td>\n",
       "      <td>1624.0</td>\n",
       "    </tr>\n",
       "    <tr>\n",
       "      <th>28</th>\n",
       "      <td>Ford</td>\n",
       "      <td>0.0</td>\n",
       "      <td>0.0</td>\n",
       "      <td>0.0</td>\n",
       "      <td>0.0</td>\n",
       "      <td>0.0</td>\n",
       "      <td>0.0</td>\n",
       "      <td>0.0</td>\n",
       "      <td>1.0</td>\n",
       "      <td>1.0</td>\n",
       "      <td>...</td>\n",
       "      <td>2028.0</td>\n",
       "      <td>2028.0</td>\n",
       "      <td>2028.0</td>\n",
       "      <td>2039.0</td>\n",
       "      <td>2039.0</td>\n",
       "      <td>2046.0</td>\n",
       "      <td>2046.0</td>\n",
       "      <td>2053.0</td>\n",
       "      <td>2053.0</td>\n",
       "      <td>2053.0</td>\n",
       "    </tr>\n",
       "    <tr>\n",
       "      <th>51</th>\n",
       "      <td>Leavenworth</td>\n",
       "      <td>0.0</td>\n",
       "      <td>0.0</td>\n",
       "      <td>0.0</td>\n",
       "      <td>0.0</td>\n",
       "      <td>0.0</td>\n",
       "      <td>0.0</td>\n",
       "      <td>0.0</td>\n",
       "      <td>0.0</td>\n",
       "      <td>2.0</td>\n",
       "      <td>...</td>\n",
       "      <td>1232.0</td>\n",
       "      <td>1232.0</td>\n",
       "      <td>1232.0</td>\n",
       "      <td>1248.0</td>\n",
       "      <td>1248.0</td>\n",
       "      <td>1264.0</td>\n",
       "      <td>1264.0</td>\n",
       "      <td>1274.0</td>\n",
       "      <td>1274.0</td>\n",
       "      <td>1274.0</td>\n",
       "    </tr>\n",
       "    <tr>\n",
       "      <th>55</th>\n",
       "      <td>Lyon</td>\n",
       "      <td>0.0</td>\n",
       "      <td>0.0</td>\n",
       "      <td>0.0</td>\n",
       "      <td>0.0</td>\n",
       "      <td>0.0</td>\n",
       "      <td>0.0</td>\n",
       "      <td>0.0</td>\n",
       "      <td>0.0</td>\n",
       "      <td>0.0</td>\n",
       "      <td>...</td>\n",
       "      <td>523.0</td>\n",
       "      <td>523.0</td>\n",
       "      <td>523.0</td>\n",
       "      <td>532.0</td>\n",
       "      <td>533.0</td>\n",
       "      <td>536.0</td>\n",
       "      <td>543.0</td>\n",
       "      <td>550.0</td>\n",
       "      <td>550.0</td>\n",
       "      <td>550.0</td>\n",
       "    </tr>\n",
       "    <tr>\n",
       "      <th>86</th>\n",
       "      <td>Sedgwick</td>\n",
       "      <td>0.0</td>\n",
       "      <td>0.0</td>\n",
       "      <td>0.0</td>\n",
       "      <td>0.0</td>\n",
       "      <td>0.0</td>\n",
       "      <td>0.0</td>\n",
       "      <td>0.0</td>\n",
       "      <td>0.0</td>\n",
       "      <td>0.0</td>\n",
       "      <td>...</td>\n",
       "      <td>2074.0</td>\n",
       "      <td>2074.0</td>\n",
       "      <td>2074.0</td>\n",
       "      <td>2422.0</td>\n",
       "      <td>2422.0</td>\n",
       "      <td>2595.0</td>\n",
       "      <td>2595.0</td>\n",
       "      <td>2790.0</td>\n",
       "      <td>2790.0</td>\n",
       "      <td>2790.0</td>\n",
       "    </tr>\n",
       "    <tr>\n",
       "      <th>87</th>\n",
       "      <td>Seward</td>\n",
       "      <td>0.0</td>\n",
       "      <td>0.0</td>\n",
       "      <td>0.0</td>\n",
       "      <td>0.0</td>\n",
       "      <td>0.0</td>\n",
       "      <td>0.0</td>\n",
       "      <td>0.0</td>\n",
       "      <td>0.0</td>\n",
       "      <td>0.0</td>\n",
       "      <td>...</td>\n",
       "      <td>1082.0</td>\n",
       "      <td>1082.0</td>\n",
       "      <td>1082.0</td>\n",
       "      <td>1097.0</td>\n",
       "      <td>1097.0</td>\n",
       "      <td>1105.0</td>\n",
       "      <td>1105.0</td>\n",
       "      <td>1105.0</td>\n",
       "      <td>1105.0</td>\n",
       "      <td>1105.0</td>\n",
       "    </tr>\n",
       "    <tr>\n",
       "      <th>105</th>\n",
       "      <td>Wyandotte</td>\n",
       "      <td>0.0</td>\n",
       "      <td>0.0</td>\n",
       "      <td>1.0</td>\n",
       "      <td>1.0</td>\n",
       "      <td>1.0</td>\n",
       "      <td>1.0</td>\n",
       "      <td>1.0</td>\n",
       "      <td>3.0</td>\n",
       "      <td>5.0</td>\n",
       "      <td>...</td>\n",
       "      <td>2930.0</td>\n",
       "      <td>3032.0</td>\n",
       "      <td>3143.0</td>\n",
       "      <td>3169.0</td>\n",
       "      <td>3206.0</td>\n",
       "      <td>3391.0</td>\n",
       "      <td>3411.0</td>\n",
       "      <td>3603.0</td>\n",
       "      <td>3610.0</td>\n",
       "      <td>3748.0</td>\n",
       "    </tr>\n",
       "  </tbody>\n",
       "</table>\n",
       "<p>7 rows × 133 columns</p>\n",
       "</div>"
      ],
      "text/plain": [
       "date       county  2020-03-10  2020-03-11  2020-03-12  2020-03-13  2020-03-14  \\\n",
       "27         Finney         0.0         0.0         0.0         0.0         0.0   \n",
       "28           Ford         0.0         0.0         0.0         0.0         0.0   \n",
       "51    Leavenworth         0.0         0.0         0.0         0.0         0.0   \n",
       "55           Lyon         0.0         0.0         0.0         0.0         0.0   \n",
       "86       Sedgwick         0.0         0.0         0.0         0.0         0.0   \n",
       "87         Seward         0.0         0.0         0.0         0.0         0.0   \n",
       "105     Wyandotte         0.0         0.0         1.0         1.0         1.0   \n",
       "\n",
       "date  2020-03-15  2020-03-16  2020-03-17  2020-03-18  ...  2020-07-10  \\\n",
       "27           0.0         0.0         0.0         0.0  ...      1604.0   \n",
       "28           0.0         0.0         1.0         1.0  ...      2028.0   \n",
       "51           0.0         0.0         0.0         2.0  ...      1232.0   \n",
       "55           0.0         0.0         0.0         0.0  ...       523.0   \n",
       "86           0.0         0.0         0.0         0.0  ...      2074.0   \n",
       "87           0.0         0.0         0.0         0.0  ...      1082.0   \n",
       "105          1.0         1.0         3.0         5.0  ...      2930.0   \n",
       "\n",
       "date  2020-07-11  2020-07-12  2020-07-13  2020-07-14  2020-07-15  2020-07-16  \\\n",
       "27        1604.0      1604.0      1605.0      1608.0      1613.0      1620.0   \n",
       "28        2028.0      2028.0      2039.0      2039.0      2046.0      2046.0   \n",
       "51        1232.0      1232.0      1248.0      1248.0      1264.0      1264.0   \n",
       "55         523.0       523.0       532.0       533.0       536.0       543.0   \n",
       "86        2074.0      2074.0      2422.0      2422.0      2595.0      2595.0   \n",
       "87        1082.0      1082.0      1097.0      1097.0      1105.0      1105.0   \n",
       "105       3032.0      3143.0      3169.0      3206.0      3391.0      3411.0   \n",
       "\n",
       "date  2020-07-17  2020-07-18  2020-07-19  \n",
       "27        1624.0      1624.0      1624.0  \n",
       "28        2053.0      2053.0      2053.0  \n",
       "51        1274.0      1274.0      1274.0  \n",
       "55         550.0       550.0       550.0  \n",
       "86        2790.0      2790.0      2790.0  \n",
       "87        1105.0      1105.0      1105.0  \n",
       "105       3603.0      3610.0      3748.0  \n",
       "\n",
       "[7 rows x 133 columns]"
      ]
     },
     "execution_count": 37,
     "metadata": {},
     "output_type": "execute_result"
    }
   ],
   "source": [
    "data=df[df['state']==target]\n",
    "data=data.pivot_table(index='county', columns='date', values='cases').fillna(0)\n",
    "data=data.iloc[:,data.columns.get_loc(start):data.columns.get_loc(end)]\n",
    "data=data.reset_index()\n",
    "data=data.loc[data['county'].isin(dPool)]\n",
    "data"
   ]
  },
  {
   "cell_type": "code",
   "execution_count": 38,
   "metadata": {},
   "outputs": [],
   "source": [
    "allColumns = data.columns.values\n",
    "states = list(np.unique(data['county']))\n",
    "years = np.delete(allColumns, [0])\n",
    "caStateKey = county\n",
    "states.remove(caStateKey)\n",
    "otherStates = states\n",
    "p = 1.0\n",
    "yearTrainEnd = date"
   ]
  },
  {
   "cell_type": "code",
   "execution_count": 39,
   "metadata": {},
   "outputs": [],
   "source": [
    "testYears=list(years)[list(years).index(date)+1:len(list(years))]\n",
    "trainingYears=list(years)[list(years).index(start):list(years).index(date)+1]\n",
    "trainDataMasterDict = {}\n",
    "trainDataDict = {}\n",
    "testDataDict = {}"
   ]
  },
  {
   "cell_type": "code",
   "execution_count": 40,
   "metadata": {},
   "outputs": [],
   "source": [
    "for key in otherStates:\n",
    " series =data.loc[data['county'] == key]\n",
    "\n",
    " trainDataMasterDict.update({key: series[trainingYears].values[0]})\n",
    "\n",
    " # randomly hide training data\n",
    " (trainData, pObservation) = tsUtils.randomlyHideValues(copy.deepcopy(trainDataMasterDict[key]), p)\n",
    " trainDataDict.update({key: trainData})\n",
    " testDataDict.update({key: series[testYears].values[0]})\n",
    "    \n",
    "series = data[data['county'] == caStateKey]\n",
    "trainDataMasterDict.update({caStateKey: series[trainingYears].values[0]})\n",
    "trainDataDict.update({caStateKey: series[trainingYears].values[0]})\n",
    "testDataDict.update({caStateKey: series[testYears].values[0]})\n",
    "\n",
    "trainMasterDF = pd.DataFrame(data=trainDataMasterDict)\n",
    "trainDF = pd.DataFrame(data=trainDataDict)\n",
    "testDF = pd.DataFrame(data=testDataDict)"
   ]
  },
  {
   "cell_type": "code",
   "execution_count": 41,
   "metadata": {},
   "outputs": [],
   "source": [
    "singvals = 4\n",
    "rscModel = RobustSyntheticControl(caStateKey, singvals, len(trainDF), probObservation=1.0, modelType='svd', svdMethod='numpy', otherSeriesKeysArray=otherStates)\n",
    "rscModel.fit(trainDF)\n",
    "denoisedDF = rscModel.model.denoisedDF()\n",
    "\n",
    "predictions = []\n",
    "predictions = np.dot(testDF[otherStates], rscModel.model.weights)\n",
    "actual = data.loc[data['county'] == caStateKey]\n",
    "actual = actual.drop('county', axis=1)\n",
    "actual = actual.iloc[0]\n",
    "model_fit = np.dot(trainDF[otherStates][:], rscModel.model.weights)"
   ]
  },
  {
   "cell_type": "markdown",
   "metadata": {},
   "source": [
    "## Ploting graph"
   ]
  },
  {
   "cell_type": "code",
   "execution_count": 45,
   "metadata": {},
   "outputs": [
    {
     "data": {
      "text/plain": [
       "<matplotlib.legend.Legend at 0xa85ad56048>"
      ]
     },
     "execution_count": 45,
     "metadata": {},
     "output_type": "execute_result"
    },
    {
     "data": {
      "image/png": "[encoded data removed]",
      "text/plain": [
       "<Figure size 1080x720 with 1 Axes>"
      ]
     },
     "metadata": {
      "needs_background": "light"
     },
     "output_type": "display_data"
    }
   ],
   "source": [
    "# fig,ax = plt.subplots(1,1)\n",
    "# fig.autofmt_xdate()\n",
    "plt.figure(figsize=(15,10))\n",
    "tick_spacing = 1\n",
    "intDate=yearTrainEnd\n",
    "# this is a bug in matplotlib\n",
    "label_markings = np.insert(years[::tick_spacing], 0, 'dummy')\n",
    "\n",
    "# ax.set_xticks(np.arange(len(label_markings)))\n",
    "# ax.set_xticklabels(label_markings, rotation=45)\n",
    "# ax.xaxis.set_major_locator(ticker.MultipleLocator(tick_spacing))\n",
    "\n",
    "plt.plot(years, actual ,label='actual')\n",
    "plt.xlabel('Time Period')\n",
    "plt.ylabel('No. of confirmed Cases')\n",
    "plt.plot(trainingYears, model_fit, label='fitted model')\n",
    "plt.plot(testYears, predictions, label='counterfactual')\n",
    "plt.title(caStateKey+', Singular Values used: '+str(singvals))\n",
    "\n",
    "xposition = pd.to_datetime(yearTrainEnd,  errors='coerce')\n",
    "plt.axvline(x=str(intDate), color='k', linestyle='--', linewidth=4)\n",
    "plt.grid()\n",
    "plt.legend()"
   ]
  },
  {
   "cell_type": "markdown",
   "metadata": {},
   "source": [
    "## % change "
   ]
  },
  {
   "cell_type": "code",
   "execution_count": 50,
   "metadata": {},
   "outputs": [],
   "source": [
    "pred=list(predictions)\n",
    "data={'date':testYears, 'predictions':pred}\n",
    "pred=pd.DataFrame(data)\n",
    "act=pd.DataFrame(actual).reset_index()\n",
    "tot=pred.merge(act, on='date')"
   ]
  },
  {
   "cell_type": "code",
   "execution_count": 52,
   "metadata": {},
   "outputs": [
    {
     "name": "stdout",
     "output_type": "stream",
     "text": [
      "% change in the total number of covid cases after the intervention date\n"
     ]
    },
    {
     "data": {
      "text/plain": [
       "17.624166296014497"
      ]
     },
     "execution_count": 52,
     "metadata": {},
     "output_type": "execute_result"
    }
   ],
   "source": [
    "print('% change in the total number of covid cases after the intervention date')\n",
    "(tot['predictions'].sum()-tot.iloc[:,-1].sum())/tot.iloc[:,-1].sum()*100"
   ]
  }
 ],
 "metadata": {
  "kernelspec": {
   "display_name": "Python 3",
   "language": "python",
   "name": "python3"
  },
  "language_info": {
   "codemirror_mode": {
    "name": "ipython",
    "version": 3
   },
   "file_extension": ".py",
   "mimetype": "text/x-python",
   "name": "python",
   "nbconvert_exporter": "python",
   "pygments_lexer": "ipython3",
   "version": "3.7.6"
  }
 },
 "nbformat": 4,
 "nbformat_minor": 4
}
